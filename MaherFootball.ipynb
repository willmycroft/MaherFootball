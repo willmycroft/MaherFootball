{
 "cells": [
  {
   "cell_type": "markdown",
   "metadata": {},
   "source": [
    "# A hastily put together notebook which uses the Maher model to predict the relegated teams of the 2017/18 Premier League.\n",
    "\n",
    "See https://medium.com/@willmycroft/throwing-darts-at-the-premier-league-table-predicting-the-relegation-zone-via-monte-carlo-fa50aaeba66d"
   ]
  },
  {
   "cell_type": "code",
   "execution_count": 13,
   "metadata": {
    "collapsed": true
   },
   "outputs": [],
   "source": [
    "import pandas as pd\n",
    "import numpy as np\n",
    "from math import factorial\n",
    "from itertools import product as cart_product\n",
    "import seaborn as sns\n",
    "import matplotlib.pyplot as plt\n",
    "%matplotlib inline "
   ]
  },
  {
   "cell_type": "code",
   "execution_count": 4,
   "metadata": {
    "collapsed": true
   },
   "outputs": [],
   "source": [
    "def log_likelihood(df, alpha, beta, gamma):\n",
    "    ll = 0\n",
    "    for index, row in df.iterrows():\n",
    "        home_lambda = alpha[row.HomeTeam] * beta[row.AwayTeam] * gamma\n",
    "        away_lambda = alpha[row.AwayTeam] * beta[row.HomeTeam]\n",
    "        ll += row.FTHG * np.log(home_lambda) - home_lambda - np.log(factorial(row.FTHG))\n",
    "        ll += row.FTAG * np.log(away_lambda) - away_lambda - np.log(factorial(row.FTAG))\n",
    "    return ll\n",
    "\n",
    "def optimise_params(df, threshold = 1e-10):\n",
    "    alpha, beta = {}, {}\n",
    "    gamma = 1.0\n",
    "    for team in df.HomeTeam.unique():\n",
    "        alpha[team] = 1.0\n",
    "        beta[team] = 1.0\n",
    "        \n",
    "    old = np.zeros(len(alpha)+len(beta)+1)\n",
    "    while np.abs(np.array(list(alpha.values()) + list(beta.values()) + [gamma]) - old).max() > threshold:\n",
    "        old = np.array(list(alpha.values()) + list(beta.values()) + [gamma])\n",
    "        \n",
    "        denom = 0\n",
    "        for index, row in df.iterrows():\n",
    "            denom += alpha[row.HomeTeam]*beta[row.AwayTeam]\n",
    "        gamma = df.FTHG.sum()/denom\n",
    "        \n",
    "        for team in df.HomeTeam.unique():\n",
    "            away_teams = df[df.HomeTeam == team].AwayTeam\n",
    "            home_teams = df[df.AwayTeam == team].HomeTeam\n",
    "            \n",
    "            alpha[team] = (\n",
    "                    (df[df.HomeTeam == team].FTHG.sum() + df[df.AwayTeam == team].FTAG.sum()) \n",
    "                     /(gamma * np.sum([beta[x] for x in away_teams]) + np.sum([beta[x] for x in home_teams]))\n",
    "                        )\n",
    "            beta[team] = (\n",
    "                    (df[df.AwayTeam == team].FTHG.sum() + df[df.HomeTeam == team].FTAG.sum()) \n",
    "                     /(gamma * np.sum([alpha[x] for x in home_teams]) + np.sum([alpha[x] for x in away_teams]))\n",
    "                        )\n",
    "    return alpha, beta, gamma\n",
    "\n",
    "def score_probability(home, away, hg, ag, alpha, beta, gamma):\n",
    "    home_lambda = alpha[home] * beta[away] * gamma\n",
    "    away_lambda = alpha[away] * beta[home]\n",
    "    hg_prob = home_lambda**hg * np.exp(-home_lambda) / factorial(hg)\n",
    "    ag_prob = away_lambda**ag * np.exp(-away_lambda) / factorial(ag)\n",
    "    return hg_prob*ag_prob\n",
    "\n",
    "def predict_game(home, away, alpha, beta, gamma):\n",
    "    return np.random.poisson(alpha[home]*beta[away]*gamma), np.random.poisson(alpha[away]*beta[home])\n",
    "\n",
    "def compute_points(df):\n",
    "    points = dict(zip(df.HomeTeam.unique(), [0]*len(df.HomeTeam.unique())))\n",
    "    for index, row in df.iterrows():\n",
    "        if row.FTHG > row.FTAG:\n",
    "            points[row.HomeTeam] += 3\n",
    "        elif row.FTHG == row.FTAG:\n",
    "            points[row.HomeTeam] += 1\n",
    "            points[row.AwayTeam] += 1\n",
    "        else:\n",
    "            points[row.AwayTeam] += 3\n",
    "    return points"
   ]
  },
  {
   "cell_type": "code",
   "execution_count": 5,
   "metadata": {},
   "outputs": [],
   "source": [
    "# Load data and fit model\n",
    "df = pd.read_csv('1718prem.csv')\n",
    "model = optimise_params(df)\n",
    "ll = log_likelihood(df, *model)\n",
    "\n",
    "# Assert that MLE has been found\n",
    "for team in df.HomeTeam.unique():\n",
    "    for i in [0,1]:\n",
    "        model[i][team] += 0.01\n",
    "        assert(log_likelihood(df, *model) < ll)\n",
    "        model[i][team] -= 0.02\n",
    "        assert(log_likelihood(df, *model) < ll)\n",
    "        model[i][team] += 0.01\n",
    "    \n",
    "# Assert scores sum to 1\n",
    "assert(np.isclose(sum([score_probability('Watford', 'Bournemouth', hg, ag, *model)\n",
    "            for hg, ag in cart_product(range(100), range(100))]),1))"
   ]
  },
  {
   "cell_type": "code",
   "execution_count": 14,
   "metadata": {},
   "outputs": [
    {
     "name": "stdout",
     "output_type": "stream",
     "text": [
      "West Ham win probablity: 0.45511701856444914\n",
      "Draw probablity: 0.2506162552179004\n",
      "Southampton win probablity: 0.29426672621764965\n"
     ]
    },
    {
     "data": {
      "image/png": "[encoded data removed]",
      "text/plain": [
       "<matplotlib.figure.Figure at 0x7f1ee5457710>"
      ]
     },
     "metadata": {},
     "output_type": "display_data"
    }
   ],
   "source": [
    "# Predict match\n",
    "home = 'West Ham'\n",
    "away = 'Southampton'\n",
    "max_goals = 50\n",
    "score_probs = np.zeros((max_goals, max_goals))\n",
    "for hg, ag in cart_product(range(max_goals), range(max_goals)):\n",
    "    score_probs[hg, ag] = score_probability(home, away, hg, ag, *model)\n",
    "plt.figure()\n",
    "\n",
    "# Compute W,L,D probs\n",
    "home_win = 0\n",
    "away_win = 0\n",
    "for hg, ag in cart_product(range(max_goals), range(max_goals)):\n",
    "    if hg > ag:\n",
    "        home_win += score_probs[hg, ag]\n",
    "    elif hg < ag:\n",
    "        away_win += score_probs[hg, ag]\n",
    "    \n",
    "print(home, 'win probablity:', home_win)\n",
    "print('Draw probablity:', score_probs.diagonal().sum())\n",
    "print(away, 'win probablity:', away_win)\n",
    "\n",
    "# Plot\n",
    "ax = sns.heatmap(score_probs[:6,:6], annot=True, fmt='.3f', cbar=False)\n",
    "ax.set_xlabel(home + ' goals')\n",
    "ax.set_ylabel(away + ' goals')\n",
    "ax.xaxis.set_label_position('top') \n",
    "ax.xaxis.tick_top()"
   ]
  },
  {
   "cell_type": "code",
   "execution_count": 11,
   "metadata": {},
   "outputs": [
    {
     "name": "stdout",
     "output_type": "stream",
     "text": [
      "                Winner    CL  Europe  Relegated\n",
      "Man City           1.0  1.00    1.00       0.00\n",
      "Man United         0.0  1.00    1.00       0.00\n",
      "Liverpool          0.0  0.97    1.00       0.00\n",
      "Tottenham          0.0  0.90    1.00       0.00\n",
      "Chelsea            0.0  0.13    0.97       0.00\n",
      "Arsenal            0.0  0.00    0.03       0.00\n",
      "Burnley            0.0  0.00    0.00       0.00\n",
      "Everton            0.0  0.00    0.00       0.00\n",
      "Leicester          0.0  0.00    0.00       0.00\n",
      "Watford            0.0  0.00    0.00       0.00\n",
      "Bournemouth        0.0  0.00    0.00       0.00\n",
      "Brighton           0.0  0.00    0.00       0.00\n",
      "Newcastle          0.0  0.00    0.00       0.00\n",
      "Swansea            0.0  0.00    0.00       0.10\n",
      "Huddersfield       0.0  0.00    0.00       0.34\n",
      "Crystal Palace     0.0  0.00    0.00       0.06\n",
      "West Ham           0.0  0.00    0.00       0.27\n",
      "Southampton        0.0  0.00    0.00       0.38\n",
      "Stoke              0.0  0.00    0.00       0.85\n",
      "West Brom          0.0  0.00    0.00       1.00\n"
     ]
    }
   ],
   "source": [
    "# Compute remaining fixtures\n",
    "teams = df.HomeTeam.unique()\n",
    "matches = list(filter(lambda x: x[0] != x[1], cart_product(teams, teams)))\n",
    "played = list(zip(df.HomeTeam, df.AwayTeam))\n",
    "to_play = list(filter(lambda x: x not in played, matches))   \n",
    "\n",
    "# Perform Monte-Carlo simulation\n",
    "N = 100\n",
    "points = compute_points(df)\n",
    "sorted_teams = sorted(teams, key=lambda x: points[x], reverse=True)\n",
    "counts = pd.DataFrame(0, columns=['Winner', 'CL', 'Europe', 'Relegated'], index=sorted_teams)\n",
    "mc_margin = []\n",
    "for i in range(N):\n",
    "    data = []\n",
    "    for home, away in to_play:\n",
    "        hg, ag = predict_game(home, away, *model)\n",
    "        data.append([home, away, hg, ag])\n",
    "    new_results = pd.DataFrame(data, columns=['HomeTeam', 'AwayTeam', 'FTHG', 'FTAG'])\n",
    "    points = compute_points(df.append(new_results))\n",
    "    ranking = sorted(points, key=lambda x: points[x], reverse=True)\n",
    "    counts.Winner[ranking[0]] += 1\n",
    "    counts.CL[ranking[:4]] += 1\n",
    "    counts.Europe[ranking[:5]] +=1\n",
    "    counts.Relegated[ranking[-3:]] += 1\n",
    "    \n",
    "print(counts/N)"
   ]
  }
 ],
 "metadata": {
  "kernelspec": {
   "display_name": "Python 3",
   "language": "python",
   "name": "python3"
  },
  "language_info": {
   "codemirror_mode": {
    "name": "ipython",
    "version": 3
   },
   "file_extension": ".py",
   "mimetype": "text/x-python",
   "name": "python",
   "nbconvert_exporter": "python",
   "pygments_lexer": "ipython3",
   "version": "3.6.3"
  }
 },
 "nbformat": 4,
 "nbformat_minor": 2
}
